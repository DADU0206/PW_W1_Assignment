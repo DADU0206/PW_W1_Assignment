{
 "cells": [
  {
   "cell_type": "markdown",
   "id": "19f4b2b8-da97-4ff8-8c55-066cde5d55bd",
   "metadata": {},
   "source": [
    "Q1. Create one variable containing following type of data:\n",
    "(i) string\n",
    "(ii) list\n",
    "(iii) float\n",
    "(iv) tuple\n"
   ]
  },
  {
   "cell_type": "code",
   "execution_count": 3,
   "id": "9c9cf2dc-9566-4167-8923-882b3cb653c3",
   "metadata": {},
   "outputs": [
    {
     "name": "stdout",
     "output_type": "stream",
     "text": [
      "<class 'str'>\n",
      "<class 'list'>\n",
      "<class 'float'>\n",
      "<class 'tuple'>\n"
     ]
    }
   ],
   "source": [
    "s=\"PWSkills\"\n",
    "list1 = [1,2,\"a\",3]\n",
    "fl = 3.14\n",
    "tup = (1,2,3,4,1,4)\n",
    "print(type(s))\n",
    "print(type(list1))\n",
    "print(type(fl))\n",
    "print(type(tup))"
   ]
  },
  {
   "cell_type": "markdown",
   "id": "ad31e2f3-b953-4ed1-a2b5-68d306ae5026",
   "metadata": {},
   "source": [
    "Q2. Given are some following variables containing data:\n",
    "(i) var1 = ‘ ‘\n",
    "(ii) var2 = ‘[ DS , ML , Python]’\n",
    "(iii) var3 = [ ‘DS’ , ’ML’ , ‘Python’ ]\n",
    "(iv) var4 = 1\n",
    "What will be the data type of the above given variable."
   ]
  },
  {
   "cell_type": "markdown",
   "id": "6605b7f6-8734-41ab-98f4-3dae3e761886",
   "metadata": {},
   "source": [
    "i) string\n",
    "ii) string\n",
    "iii) list\n",
    "iv) int"
   ]
  },
  {
   "cell_type": "code",
   "execution_count": 6,
   "id": "39a7f3f7-6b12-4f12-aca1-71fba54b5733",
   "metadata": {},
   "outputs": [
    {
     "name": "stdout",
     "output_type": "stream",
     "text": [
      "<class 'str'> <class 'str'> <class 'list'> <class 'int'>\n"
     ]
    }
   ],
   "source": [
    "print(type(''),type('[ DS , ML , Python]'), type([ 'DS' , 'ML' , 'Python' ]),type(1))"
   ]
  },
  {
   "cell_type": "markdown",
   "id": "715bf9b2-bcec-4387-b4ae-5c9569af2be2",
   "metadata": {},
   "source": [
    "Q3. Explain the use of the following operators using an example:\n",
    "(i) /\n",
    "(ii) %\n",
    "(iii) //\n",
    "(iv) **"
   ]
  },
  {
   "cell_type": "code",
   "execution_count": 22,
   "id": "e08e3852-5f5a-4fde-9c7f-bfdcae8da69b",
   "metadata": {},
   "outputs": [
    {
     "name": "stdout",
     "output_type": "stream",
     "text": [
      "2.5 , 2.0 , 1.0\n",
      "1 , 2.0 , 0 , 2.0\n",
      "1.0 , 4 , 5.0\n",
      "8 , 16\n"
     ]
    }
   ],
   "source": [
    "#  / is used to find the quostient (in float) when two values are divided\n",
    "print(5/2,10/5 , 50/50 ,sep = \" , \") \n",
    "\n",
    "# % modulus operator gives remainder\n",
    "print(19%2 , 14.0%4 , 10%10 , 12%5.0 ,sep=\" , \")\n",
    "\n",
    "# // gives  the absolute quotient\n",
    "print(2.0//2 , 13//3 , 25.23245646//5 , sep= ' , ')\n",
    "\n",
    "''' ** operator computes power. lhs is the base value rhs is the power value\n",
    "    eg : 2**3  = 2*2*2 =8\n",
    "         4**2 =  4*4 = 16 '''\n",
    "print (2**3 , 4**2 , sep = \" , \")\n",
    "\n"
   ]
  },
  {
   "cell_type": "markdown",
   "id": "1e6d06df-e2bc-43e0-af40-ab574ef71478",
   "metadata": {},
   "source": [
    "Q4. Create a list of length 10 of your choice containing multiple types of data. Using for loop print the\n",
    "element and its data type."
   ]
  },
  {
   "cell_type": "code",
   "execution_count": 26,
   "id": "eb87c989-ff3d-4788-a864-72d8f7e9bb7b",
   "metadata": {},
   "outputs": [
    {
     "name": "stdout",
     "output_type": "stream",
     "text": [
      "length of list =  10\n",
      "1 <class 'int'>\n",
      "abc <class 'str'>\n",
      "3 <class 'int'>\n",
      "1.0 <class 'float'>\n",
      "True <class 'bool'>\n",
      "[1, 2, 3] <class 'list'>\n",
      "{1, 2, 3} <class 'set'>\n",
      "(1, 2, 3) <class 'tuple'>\n",
      "12 <class 'int'>\n",
      "356 <class 'int'>\n"
     ]
    }
   ],
   "source": [
    "l = [ 1 ,'abc' ,3,1.0 ,True , [1,2,3] ,{1,2,3},(1,2,3),12,356]\n",
    "print( \"length of list = \" ,len(l))\n",
    "for i in l:\n",
    "    print(i , type(i))"
   ]
  },
  {
   "cell_type": "markdown",
   "id": "b083b2a2-3d58-4536-aa15-a4bb782703df",
   "metadata": {},
   "source": [
    "Q5. Using a while loop, verify if the number A is purely divisible by number B and if so then how many\n",
    "times it can be divisible."
   ]
  },
  {
   "cell_type": "code",
   "execution_count": null,
   "id": "7c0e962c-8d65-4cc4-b10c-589b30a77ab7",
   "metadata": {},
   "outputs": [],
   "source": [
    "A = int(input())\n",
    "B = int(input())\n",
    "\n",
    "while( True):\n",
    "    if int(A%B)==0:\n",
    "        print(\"purely divisible by \",A/B,\" times\")\n",
    "        break\n",
    "    else:\n",
    "        print(\"not purely divisible\")\n",
    "        break\n",
    "   \n",
    "\n",
    "  \n",
    "# if B==A :\n",
    "#     print( \"purely divisible by\" , count , \"times\")\n",
    "# else :\n",
    "#     print('not purely divisible')\n",
    "    \n",
    "    "
   ]
  },
  {
   "cell_type": "markdown",
   "id": "43a93aeb-8626-4077-9dbd-360cc1b34f58",
   "metadata": {},
   "source": [
    "Q6. Create a list containing 25 int type data. Using for loop and if-else condition print if the element is\n",
    "divisible by 3 or not."
   ]
  },
  {
   "cell_type": "code",
   "execution_count": 9,
   "id": "c77d9ae9-06a2-4373-9666-44223e20cf1d",
   "metadata": {},
   "outputs": [
    {
     "name": "stdout",
     "output_type": "stream",
     "text": [
      "78\n",
      "15\n",
      "84\n",
      "57\n",
      "45\n",
      "78\n",
      "612\n",
      "75\n",
      "45\n"
     ]
    }
   ],
   "source": [
    "l = [1,43,64,2,5,35,78,59,15,84,25,74,57,56,85,45,28,94,78,46,612,75,82,45,55]\n",
    "\n",
    "for i in l:\n",
    "    if(i%3==0):\n",
    "        print( i )\n",
    "    else:\n",
    "        continue\n",
    "    "
   ]
  },
  {
   "cell_type": "markdown",
   "id": "1387b68f-1f9d-458b-86e2-5d490a60c137",
   "metadata": {},
   "source": [
    "Q7. What do you understand about mutable and immutable data types? Give examples for both showing\n",
    "this property."
   ]
  },
  {
   "cell_type": "code",
   "execution_count": 11,
   "id": "cc07d56e-684c-4ceb-9d50-81d77029e2a7",
   "metadata": {},
   "outputs": [
    {
     "name": "stdout",
     "output_type": "stream",
     "text": [
      "[0, 2, 3, 4]\n"
     ]
    },
    {
     "ename": "TypeError",
     "evalue": "'str' object does not support item assignment",
     "output_type": "error",
     "traceback": [
      "\u001b[0;31m---------------------------------------------------------------------------\u001b[0m",
      "\u001b[0;31mTypeError\u001b[0m                                 Traceback (most recent call last)",
      "Cell \u001b[0;32mIn[11], line 16\u001b[0m\n\u001b[1;32m     13\u001b[0m \u001b[38;5;28mprint\u001b[39m(l)\n\u001b[1;32m     15\u001b[0m string \u001b[38;5;241m=\u001b[39m \u001b[38;5;124m'\u001b[39m\u001b[38;5;124mhello world\u001b[39m\u001b[38;5;124m'\u001b[39m  \n\u001b[0;32m---> 16\u001b[0m \u001b[43mstring\u001b[49m\u001b[43m[\u001b[49m\u001b[38;5;241;43m0\u001b[39;49m\u001b[43m]\u001b[49m \u001b[38;5;241m=\u001b[39m \u001b[38;5;124m'\u001b[39m\u001b[38;5;124mX\u001b[39m\u001b[38;5;124m'\u001b[39m  \n\u001b[1;32m     17\u001b[0m \u001b[38;5;28mprint\u001b[39m(string)  \u001b[38;5;66;03m#error due to immutability\u001b[39;00m\n",
      "\u001b[0;31mTypeError\u001b[0m: 'str' object does not support item assignment"
     ]
    }
   ],
   "source": [
    "'''\n",
    "mutable : Anything is said to be mutable when anything can be modified or changed. \n",
    "The term \"mutable\" in Python refers to an object's capacity to modify its values. \n",
    "These are frequently the things that hold a data collection.\n",
    "\n",
    "immutable : Immutable refers to a state in which no change can occur over time.\n",
    "A Python object is referred to as immutable if we cannot change its value over time. \n",
    "The value of these Python objects is fixed once they are made.'''\n",
    "\n",
    "\n",
    "l = [1,2,3,4]\n",
    "l[0] = 0\n",
    "print(l)\n",
    "\n",
    "string = 'hello world'  \n",
    "string[0] = 'X'  \n",
    "print(string)  #error due to immutability\n",
    "\n",
    "\n"
   ]
  },
  {
   "cell_type": "code",
   "execution_count": null,
   "id": "df56c54a-7acc-4017-ab20-e63590b2c2a7",
   "metadata": {},
   "outputs": [],
   "source": []
  }
 ],
 "metadata": {
  "kernelspec": {
   "display_name": "Python 3 (ipykernel)",
   "language": "python",
   "name": "python3"
  },
  "language_info": {
   "codemirror_mode": {
    "name": "ipython",
    "version": 3
   },
   "file_extension": ".py",
   "mimetype": "text/x-python",
   "name": "python",
   "nbconvert_exporter": "python",
   "pygments_lexer": "ipython3",
   "version": "3.10.8"
  }
 },
 "nbformat": 4,
 "nbformat_minor": 5
}
